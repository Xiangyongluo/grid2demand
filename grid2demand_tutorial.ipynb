{
 "cells": [
  {
   "cell_type": "markdown",
   "id": "5fc0e5e5",
   "metadata": {},
   "source": [
    "## import package"
   ]
  },
  {
   "cell_type": "code",
   "execution_count": 1,
   "id": "de008026",
   "metadata": {
    "ExecuteTime": {
     "end_time": "2023-09-30T22:04:44.777052Z",
     "start_time": "2023-09-30T22:04:44.262766Z"
    }
   },
   "outputs": [
    {
     "name": "stdout",
     "output_type": "stream",
     "text": [
      "grid2demand, version 0.3.5\n"
     ]
    }
   ],
   "source": [
    "from __future__ import absolute_import\n",
    "from grid2demand import GRID2DEMAND"
   ]
  },
  {
   "cell_type": "markdown",
   "id": "36907caa",
   "metadata": {},
   "source": [
    "## Load node and poi files from input directory"
   ]
  },
  {
   "cell_type": "code",
   "execution_count": 3,
   "id": "2b2f6db8",
   "metadata": {
    "ExecuteTime": {
     "end_time": "2023-09-30T22:09:12.468412Z",
     "start_time": "2023-09-30T22:09:12.263047Z"
    }
   },
   "outputs": [
    {
     "name": "stdout",
     "output_type": "stream",
     "text": [
      "  : Checking input directory...\n",
      "  : input dir ./datasets/asu, traverse files by type: csv\n",
      "  : Input directory is valid.\n",
      "\n",
      "  : Loading package settings...\n",
      "  : Package settings loaded successfully.\n",
      "\n",
      "INFO Begin to run function: read_node …\n",
      "  : Successfully loaded node.csv: 998 Nodes loaded.\n",
      "INFO Finished running function: read_node, total: 0s\n",
      "\n",
      "INFO Begin to run function: read_poi …\n",
      "  : Successfully loaded poi.csv: 512 POIs loaded.\n",
      "INFO Finished running function: read_poi, total: 0s\n",
      "\n"
     ]
    }
   ],
   "source": [
    "# Step 0: Specify input directory, if not, use current working directory as default input directory\n",
    "input_dir = \"./datasets/asu\"\n",
    "\n",
    "# Initialize a GRID2DEMAND object\n",
    "gd = GRID2DEMAND(input_dir)\n",
    "\n",
    "# Step 1: Load node and poi data from input directory\n",
    "node_dict = gd.load_node\n",
    "poi_dict = gd.load_poi"
   ]
  },
  {
   "cell_type": "code",
   "execution_count": 4,
   "id": "f7054f7b",
   "metadata": {
    "ExecuteTime": {
     "end_time": "2023-09-30T22:10:10.490070Z",
     "start_time": "2023-09-30T22:10:10.404772Z"
    },
    "scrolled": true
   },
   "outputs": [
    {
     "data": {
      "text/plain": [
       "{0: Node(id=0, x_coord=-111.9275146, y_coord=33.4245016, production=0, attraction=0, boundary_flag=0.0, zone_id=-1, poi_id=nan, activity_type='residential', activity_location_tab='residential', geometry=<POINT (-111.928 33.425)>),\n",
       " 1: Node(id=1, x_coord=-111.9442567, y_coord=33.4295155, production=0, attraction=0, boundary_flag=0.0, zone_id=-1, poi_id=nan, activity_type='tertiary', activity_location_tab='', geometry=<POINT (-111.944 33.43)>),\n",
       " 2: Node(id=2, x_coord=-111.9443252, y_coord=33.4291446, production=0, attraction=0, boundary_flag=0.0, zone_id=-1, poi_id=nan, activity_type='tertiary', activity_location_tab='', geometry=<POINT (-111.944 33.429)>),\n",
       " 3: Node(id=3, x_coord=-111.9442814, y_coord=33.4254737, production=0, attraction=0, boundary_flag=0.0, zone_id=-1, poi_id=nan, activity_type='residential', activity_location_tab='residential', geometry=<POINT (-111.944 33.425)>),\n",
       " 4: Node(id=4, x_coord=-111.9443033, y_coord=33.4243197, production=0, attraction=0, boundary_flag=0.0, zone_id=-1, poi_id=nan, activity_type='residential', activity_location_tab='residential', geometry=<POINT (-111.944 33.424)>),\n",
       " 5: Node(id=5, x_coord=-111.9442993, y_coord=33.423177100000004, production=0, attraction=0, boundary_flag=0.0, zone_id=-1, poi_id=nan, activity_type='residential', activity_location_tab='residential', geometry=<POINT (-111.944 33.423)>),\n",
       " 6: Node(id=6, x_coord=-111.94426609999998, y_coord=33.4218936, production=0, attraction=0, boundary_flag=0.0, zone_id=-1, poi_id=nan, activity_type='residential', activity_location_tab='residential', geometry=<POINT (-111.944 33.422)>),\n",
       " 7: Node(id=7, x_coord=-111.9442498, y_coord=33.420638000000004, production=0, attraction=0, boundary_flag=0.0, zone_id=-1, poi_id=nan, activity_type='residential', activity_location_tab='residential', geometry=<POINT (-111.944 33.421)>),\n",
       " 8: Node(id=8, x_coord=-111.9442498, y_coord=33.4203483, production=0, attraction=0, boundary_flag=0.0, zone_id=-1, poi_id=nan, activity_type='residential', activity_location_tab='residential', geometry=<POINT (-111.944 33.42)>),\n",
       " 9: Node(id=9, x_coord=-111.944246, y_coord=33.4194019, production=0, attraction=0, boundary_flag=0.0, zone_id=-1, poi_id=nan, activity_type='residential', activity_location_tab='residential', geometry=<POINT (-111.944 33.419)>),\n",
       " 10: Node(id=10, x_coord=-111.9442453, y_coord=33.4189174, production=0, attraction=0, boundary_flag=0.0, zone_id=-1, poi_id=nan, activity_type='residential', activity_location_tab='residential', geometry=<POINT (-111.944 33.419)>),\n",
       " 11: Node(id=11, x_coord=-111.9442439, y_coord=33.4177833, production=0, attraction=0, boundary_flag=0.0, zone_id=-1, poi_id=nan, activity_type='residential', activity_location_tab='residential', geometry=<POINT (-111.944 33.418)>),\n",
       " 12: Node(id=12, x_coord=-111.944241, y_coord=33.4168222, production=0, attraction=0, boundary_flag=0.0, zone_id=-1, poi_id=nan, activity_type='residential', activity_location_tab='residential', geometry=<POINT (-111.944 33.417)>),\n",
       " 13: Node(id=13, x_coord=-111.9442403, y_coord=33.4160678, production=0, attraction=0, boundary_flag=0.0, zone_id=-1, poi_id=nan, activity_type='residential', activity_location_tab='residential', geometry=<POINT (-111.944 33.416)>),\n",
       " 14: Node(id=14, x_coord=-111.9304264, y_coord=33.4231268, production=0, attraction=0, boundary_flag=0.0, zone_id=-1, poi_id=nan, activity_type='tertiary', activity_location_tab='', geometry=<POINT (-111.93 33.423)>),\n",
       " 15: Node(id=15, x_coord=-111.9290798, y_coord=33.4242989, production=0, attraction=0, boundary_flag=0.0, zone_id=-1, poi_id=nan, activity_type='residential', activity_location_tab='residential', geometry=<POINT (-111.929 33.424)>),\n",
       " 16: Node(id=16, x_coord=-111.9262237, y_coord=33.424502600000004, production=0, attraction=0, boundary_flag=0.0, zone_id=-1, poi_id=nan, activity_type='primary', activity_location_tab='', geometry=<POINT (-111.926 33.425)>),\n",
       " 17: Node(id=17, x_coord=-111.94007859999998, y_coord=33.424343699999994, production=0, attraction=0, boundary_flag=0.0, zone_id=-1, poi_id=nan, activity_type='residential', activity_location_tab='residential', geometry=<POINT (-111.94 33.424)>),\n",
       " 18: Node(id=18, x_coord=-111.9391418, y_coord=33.4243489, production=0, attraction=0, boundary_flag=0.0, zone_id=-1, poi_id=nan, activity_type='residential', activity_location_tab='residential', geometry=<POINT (-111.939 33.424)>),\n",
       " 19: Node(id=19, x_coord=-111.936666, y_coord=33.424359100000004, production=0, attraction=0, boundary_flag=0.0, zone_id=-1, poi_id=nan, activity_type='residential', activity_location_tab='residential', geometry=<POINT (-111.937 33.424)>),\n",
       " 20: Node(id=20, x_coord=-111.9412608, y_coord=33.4219305, production=0, attraction=0, boundary_flag=0.0, zone_id=-1, poi_id=nan, activity_type='primary', activity_location_tab='', geometry=<POINT (-111.941 33.422)>),\n",
       " 21: Node(id=21, x_coord=-111.9412375, y_coord=33.4190521, production=0, attraction=0, boundary_flag=0.0, zone_id=-1, poi_id=nan, activity_type='residential', activity_location_tab='residential', geometry=<POINT (-111.941 33.419)>),\n",
       " 22: Node(id=22, x_coord=-111.94123, y_coord=33.4176195, production=0, attraction=0, boundary_flag=0.0, zone_id=-1, poi_id=nan, activity_type='residential', activity_location_tab='residential', geometry=<POINT (-111.941 33.418)>),\n",
       " 23: Node(id=23, x_coord=-111.941205, y_coord=33.416204, production=0, attraction=0, boundary_flag=0.0, zone_id=-1, poi_id=nan, activity_type='residential', activity_location_tab='residential', geometry=<POINT (-111.941 33.416)>),\n",
       " 24: Node(id=24, x_coord=-111.9424528, y_coord=33.4161904, production=0, attraction=0, boundary_flag=0.0, zone_id=-1, poi_id=nan, activity_type='residential', activity_location_tab='residential', geometry=<POINT (-111.942 33.416)>),\n",
       " 25: Node(id=25, x_coord=-111.9424525, y_coord=33.4176183, production=0, attraction=0, boundary_flag=0.0, zone_id=-1, poi_id=nan, activity_type='residential', activity_location_tab='residential', geometry=<POINT (-111.942 33.418)>),\n",
       " 26: Node(id=26, x_coord=-111.9423945, y_coord=33.4190482, production=0, attraction=0, boundary_flag=0.0, zone_id=-1, poi_id=nan, activity_type='residential', activity_location_tab='residential', geometry=<POINT (-111.942 33.419)>),\n",
       " 27: Node(id=27, x_coord=-111.9423721, y_coord=33.4205087, production=0, attraction=0, boundary_flag=0.0, zone_id=-1, poi_id=nan, activity_type='residential', activity_location_tab='residential', geometry=<POINT (-111.942 33.421)>),\n",
       " 28: Node(id=28, x_coord=-111.9423899, y_coord=33.4219281, production=0, attraction=0, boundary_flag=0.0, zone_id=-1, poi_id=nan, activity_type='primary', activity_location_tab='', geometry=<POINT (-111.942 33.422)>),\n",
       " 29: Node(id=29, x_coord=-111.943347, y_coord=33.4254811, production=0, attraction=0, boundary_flag=0.0, zone_id=-1, poi_id=nan, activity_type='residential', activity_location_tab='residential', geometry=<POINT (-111.943 33.425)>),\n",
       " 30: Node(id=30, x_coord=-111.9427719, y_coord=33.4275569, production=0, attraction=0, boundary_flag=0.0, zone_id=-1, poi_id=nan, activity_type='tertiary', activity_location_tab='', geometry=<POINT (-111.943 33.428)>),\n",
       " 31: Node(id=31, x_coord=-111.9426691, y_coord=33.427701899999995, production=0, attraction=0, boundary_flag=0.0, zone_id=-1, poi_id=nan, activity_type='tertiary', activity_location_tab='', geometry=<POINT (-111.943 33.428)>),\n",
       " 32: Node(id=32, x_coord=-111.94246499999998, y_coord=33.428442600000004, production=0, attraction=0, boundary_flag=0.0, zone_id=-1, poi_id=nan, activity_type='tertiary', activity_location_tab='', geometry=<POINT (-111.942 33.428)>),\n",
       " 33: Node(id=33, x_coord=-111.9426248, y_coord=33.4289759, production=0, attraction=0, boundary_flag=0.0, zone_id=-1, poi_id=nan, activity_type='tertiary', activity_location_tab='', geometry=<POINT (-111.943 33.429)>),\n",
       " 34: Node(id=34, x_coord=-111.9263074, y_coord=33.4168484, production=0, attraction=0, boundary_flag=0.0, zone_id=-1, poi_id=nan, activity_type='residential', activity_location_tab='residential', geometry=<POINT (-111.926 33.417)>),\n",
       " 35: Node(id=35, x_coord=-111.9262905, y_coord=33.4191375, production=0, attraction=0, boundary_flag=0.0, zone_id=-1, poi_id=nan, activity_type='primary', activity_location_tab='', geometry=<POINT (-111.926 33.419)>),\n",
       " 36: Node(id=36, x_coord=-111.9262379, y_coord=33.42097630000001, production=0, attraction=0, boundary_flag=0.0, zone_id=-1, poi_id=nan, activity_type='tertiary', activity_location_tab='', geometry=<POINT (-111.926 33.421)>),\n",
       " 37: Node(id=37, x_coord=-111.9262821, y_coord=33.4287845, production=0, attraction=0, boundary_flag=0.0, zone_id=-1, poi_id=nan, activity_type='secondary', activity_location_tab='', geometry=<POINT (-111.926 33.429)>),\n",
       " 38: Node(id=38, x_coord=-111.9400872, y_coord=33.4295692, production=0, attraction=0, boundary_flag=0.0, zone_id=-1, poi_id=nan, activity_type='primary', activity_location_tab='', geometry=<POINT (-111.94 33.43)>),\n",
       " 39: Node(id=39, x_coord=-111.922468, y_coord=33.4167526, production=0, attraction=0, boundary_flag=0.0, zone_id=-1, poi_id=nan, activity_type='residential', activity_location_tab='residential', geometry=<POINT (-111.922 33.417)>),\n",
       " 40: Node(id=40, x_coord=-111.9399667, y_coord=33.4167979, production=0, attraction=0, boundary_flag=0.0, zone_id=-1, poi_id=nan, activity_type='primary', activity_location_tab='', geometry=<POINT (-111.94 33.417)>),\n",
       " 41: Node(id=41, x_coord=-111.94007759999998, y_coord=33.4264624, production=0, attraction=0, boundary_flag=0.0, zone_id=-1, poi_id=nan, activity_type='residential', activity_location_tab='residential', geometry=<POINT (-111.94 33.426)>),\n",
       " 42: Node(id=42, x_coord=-111.940778, y_coord=33.4264585, production=0, attraction=0, boundary_flag=0.0, zone_id=-1, poi_id=nan, activity_type='residential', activity_location_tab='residential', geometry=<POINT (-111.941 33.426)>),\n",
       " 43: Node(id=43, x_coord=-111.9294043, y_coord=33.4166443, production=0, attraction=0, boundary_flag=0.0, zone_id=-1, poi_id=nan, activity_type"
      ]
     },
     "execution_count": 4,
     "metadata": {},
     "output_type": "execute_result"
    },
    {
     "data": {
      "text/html": [
       "<b>limit_output extension: Maximum message size of 10000 exceeded with 230054 characters</b>"
      ]
     },
     "metadata": {},
     "output_type": "display_data"
    }
   ],
   "source": [
    "node_dict"
   ]
  },
  {
   "cell_type": "code",
   "execution_count": 5,
   "id": "8e2b8913",
   "metadata": {
    "ExecuteTime": {
     "end_time": "2023-09-30T22:10:34.311746Z",
     "start_time": "2023-09-30T22:10:34.272859Z"
    },
    "scrolled": true
   },
   "outputs": [
    {
     "data": {
      "text/plain": [
       "{497: POI(id=497, x_coord=-111.9305720622285, y_coord=33.42761457903879, count=1, area=[89881.9, 967480.7181817599], poi_type=nan, trip_rate={}, geometry='MULTIPOLYGON (((-111.9283404 33.4286213, -111.9283151 33.4278743, -111.9283124 33.4277927, -111.9282546 33.4260855, -111.929173 33.4260855, -111.929173 33.428521, -111.9283404 33.4286213)), ((-111.9293495 33.4243864, -111.9294968 33.424383, -111.9294961 33.4243326, -111.9299627 33.4243353, -111.9299545 33.4244571, -111.9300073 33.4247494, -111.9301447 33.4249794, -111.9299541 33.4251629, -111.929822 33.4253405, -111.9297343 33.4255626, -111.9297018 33.4257345, -111.9297052 33.4259064, -111.929791 33.4261285, -111.929894 33.4263434, -111.9300313 33.4264723, -111.9301429 33.4265798, -111.9304519 33.4267588, -111.9306755 33.4269056, -111.9307193 33.4269358, -111.9307329 33.427136, -111.9307437 33.4273248, -111.930531 33.42727, -111.9304261 33.427425, -111.9305463 33.4275468, -111.9306922 33.4276829, -111.9307523 33.4278262, -111.9307866 33.4279838, -111.9310098 33.4281629, -111.9313789 33.4283491, -111.9315625 33.4284581, -111.9318951 33.4285268, -111.9323144 33.4286213, -111.9331813 33.4285712, -111.9335538 33.4281969, -111.9335444 33.4279838, -111.9336228 33.4279175, -111.9336542 33.4279358, -111.9337074 33.4278913, -111.933825 33.4279766, -111.9340825 33.4282345, -111.9343143 33.4285855, -111.9345203 33.4288863, -111.9344945 33.4290583, -111.9343743 33.4294164, -111.9343228 33.4294522, -111.9339967 33.4293734, -111.9337392 33.4292803, -111.9333701 33.4292087, -111.9329839 33.4292087, -111.9325719 33.4292302, -111.9324002 33.4292302, -111.9322028 33.4292087, -111.931911 33.4291227, -111.9316793 33.4290511, -111.9312587 33.4288863, -111.9309068 33.4287717, -111.9306321 33.4286858, -111.9303661 33.4286213, -111.9300571 33.4285855, -111.929688 33.4285568, -111.9294562 33.4285425, -111.9294133 33.4285282, -111.9293495 33.4243864)))', zone_id=0),\n",
       " 496: POI(id=496, x_coord=-111.9325918520726, y_coord=33.42650366384845, count=1, area=[50326.0, 541704.5547904], poi_type='yes', trip_rate={}, geometry='MULTIPOLYGON (((-111.9332677 33.4274417, -111.9334251 33.4272933, -111.9335372 33.4271876, -111.9336388 33.4268568, -111.9337641 33.4264836, -111.9338502 33.4261409, -111.9337628 33.4261256, -111.9337694 33.4260379, -111.9337684 33.4259103, -111.9337308 33.4257884, -111.9337023 33.4257298, -111.9336591 33.4256692, -111.9335839 33.4255674, -111.9335185 33.425528, -111.9333816 33.4256324, -111.9332354 33.4255522, -111.9331336 33.4254902, -111.9330585 33.4254744, -111.9330656 33.4254181, -111.9331164 33.4252807, -111.9332668 33.4253113, -111.9333176 33.4252044, -111.9331652 33.425128, -111.933033 33.4250839, -111.9328625 33.4250533, -111.9327383 33.4250534, -111.9326326 33.4250636, -111.9326123 33.4251721, -111.9327464 33.4252027, -111.9327098 33.4253401, -111.9326855 33.425397, -111.9326116 33.4253922, -111.9324323 33.425405, -111.9323456 33.4254022, -111.932313 33.425414, -111.9322511 33.4252642, -111.9320763 33.4253029, -111.9319265 33.4253739, -111.9318352 33.425437, -111.9317721 33.4255269, -111.9317178 33.4256973, -111.9316501 33.4256953, -111.9314061 33.4266195, -111.9314525 33.4266372, -111.9314185 33.4267983, -111.9314238 33.4268957, -111.9314362 33.4269917, -111.9315238 33.427166, -111.9315027 33.4271796, -111.9316008 33.4272829, -111.9316573 33.4273348, -111.9317633 33.4273863, -111.9318572 33.42728, -111.9319363 33.4273192, -111.9318206 33.4275023, -111.9317627 33.4277773, -111.932079 33.427846, -111.9322915 33.4278906, -111.9325097 33.4279361, -111.9325988 33.4276653, -111.9326256 33.4274669, -111.932655 33.4274652, -111.9327262 33.4274636, -111.9327329 33.4275979, -111.9328846 33.4277994, -111.9330861 33.4278133, -111.9331841 33.4278084, -111.933252 33.4277547, -111.9330964 33.4274983, -111.9332677 33.4274417)))', zone_id=0),\n",
       " 254: POI(id=254, x_coord=-111.9187709703913, y_coord=33.41597579213866, count=1, area=[20953.7, 225543.74934848002], poi_type='school', trip_rate={}, geometry='POLYGON ((-111.9188746 33.4149117, -111.9188879 33.415488, -111.9188932 33.4157212, -111.9177771 33.4157147, -111.9177982 33.416583, -111.9178087 33.4166025, -111.9178262 33.4166112, -111.9178612 33.4166161, -111.9189604 33.4166376, -111.9195035 33.4166533, -111.9194804 33.41544, -111.9194791 33.4153908, -111.9194752 33.4150575, -111.9194687 33.4149323, -111.9188746 33.4149117))', zone_id=0),\n",
       " 364: POI(id=364, x_coord=-111.9280682633267, y_coord=33.4293778102972, count=1, area=[17901.4, 192689.06563456001], poi_type='parking', trip_rate={}, geometry='POLYGON ((-111.9292286 33.4298108, -111.9291857 33.4290765, -111.9291803 33.4290049, -111.9291106 33.4290049, -111.9291106 33.4289422, -111.9290676 33.4289154, -111.9280457 33.4290519, -111.9275629 33.4290855, -111.9266966 33.4290452, -111.9266993 33.4296272, -111.9271499 33.429616, -111.9271579 33.4296451, -111.9280725 33.4297257, -111.9286653 33.4297996, -111.9289389 33.4298309, -111.9291025 33.4298242, -111.9292286 33.4298108))', zone_id=0),\n",
       " 51: POI(id=51, x_coord=-111.9272285344359, y_coord=33.41766904379876, count=1, area=[17359.1, 186851.79702464], poi_type='parking', trip_rate={}, geometry='POLYGON ((-111.9278267 33.4183713, -111.927828 33.4169642, -111.927191 33.4169621, -111.9268074 33.4169608, -111.9268088 33.4170101, -111.9266223 33.417009, -111.9266248 33.4178403, -111.9266251 33.4179311, -111.9266264 33.4183679, -111.9271923 33.4183695, -111.9273595 33.41837, -111.9277208 33.418371, -111.9278267 33.4183713))', zone_id=0),\n",
       " 339: POI(id=339, x_coord=-111.9342620172588, y_coord=33.43077899325358, count=1, area=[15442.6, 166222.76274304002], poi_type='yes', trip_rate={}, geometry='POLYGON ((-111.9340157 33.4299267, -111.9338353 33.4303331, -111.9336504 33.4307471, -111.9334565 33.4311799, -111.9347147 33.4315431, -111.9349176 33.4310821, -111.934735 33.4310218, -111.9349266 33.430574, -111.9349266 33.4303726, -111.9344576 33.4302296, -111.9345117 33.430081, -111.9344666 33.4300546, -111.9340157 33.4299267))', zone_id=0),\n",
       " 468: POI(id=468, x_coord=-111.9361234722819, y_coord=33.42581693631489, count=1, area=[14764.2, 158920.52592768002], poi_type='bus_station', trip_rate={}, geometry='POLYGON ((-111.9352254 33.4253951, -111.9352193 33.4260012, -111.9366114 33.4264741, -111.936723 33.4262317, -111.9369859 33.4257013, -111.9369919 33.4253957, -111.936769 33.4253912, -111.9352254 33.4253951))', zone_id=0),\n",
       " 135: POI(id=135, x_coord=-111.9340216816062, y_coord=33.41548601649059, count=1, area=[13491.9, 145225.60272576], poi_type='parking', trip_rate={}, geometry='POLYGON ((-111.934677 33.4159845, -111.9346763 33.4159341, -111.9346659 33.4151236, -111.934664 33.4149759, -111.9336286 33.4149852, -111.9333664 33.4149876, -111.9333671 33.4150403, -111.9333735 33.4155441, -111.9333744 33.41561, -111.9333789 33.4159615, -111.9333794 33.4159961, -111.934677 33.4159845))', zone_id=0),\n",
       " 331: POI(id=331, x_coord=-111.9426650021928, y_coord=33.42649135579607, count=1, area=[13157.2, 141622.92191488002], poi_type='parking', trip_rate={}, geometry='POLYGON ((-111.942848 33.4272767, -111.9422693 33.4272857, -111.9422513 33.4256656, -111.9429091 33.4256416, -111.9429127 33.4262657, -111.9432363 33.4262687, -111.9432327 33.4264907, -111.9431787 33.4267787, -111.943035 33.4270457, -111.9429235 33.4271957, -111.942848 33.4272767))', zone_id=0),\n",
       " 338: POI(id=338, x_coord=-111.9248059536263, y_coord=33.42931435081786, count=1, area=[12648.0, 136141.9387392], poi_type='parking', trip_rate={}, geometry='POLYGON ((-111.9258715 33.42955, -111.9247606 33.4295426, -111.9242506 33.4296832, -111.9237273 33.4296851, -111.9237007 33.4292613, -111.9243437 33.4290189, -111.9245965 33.4289689, -111.9251109 33.4289689, -111.9253593 33.4290189, -111.9258937 33.4290466, -111.9259425 33.4291188, -111.9259092 33.4294889, -111.9258715 33.42955))', zone_id=0),\n",
       " 262: POI(id=262, x_coord=-111.9184234367456, y_coord=33.41613484226029, count=1, area=[11810.9, 127131.46934336], poi_type='parking', trip_rate={}, geometry='POLYGON ((-111.9189604 33.4166376, -111.9189691 33.4161346, -111.9189151 33.4160208, -111.9191147 33.4158833, -111.9191112 33.4154877, -111.9188879 33.415488, -111.9188932 33.4157212, -111.9177771 33.4157147, -111.9177982 33.416583, -111.9178262 33.4166112, -111.9189604 33.4166376))', zone_id=0),\n",
       " 342: POI(id=342, x_coord=-111.9301937287598, y_coord=33.42969998907108, count=1, area=[11744.2, 126413.51651968001], poi_type='yes', trip_rate={}, geometry='POLYGON ((-111.9293648 33.4299105, -111.9300472 33.4301154, -111.9304777 33.4302431, -111.9306276 33.4302777, -111.9307129 33.4300512, -111.930787 33.4298546, -111.9310039 33.4293569, -111.9308221 33.429293, -111.9307743 33.4293729, -111.9304299 33.4292558, -111.9296104 33.4292851, -111.9294732 33.4296177, -111.9293648 33.4299105))', zone_id=0),\n",
       " 291: POI(id=291, x_coord=-111.9250793058601, y_coord=33.42313792682234, count=1, area=[11731.2, 126273.58568448001], poi_type='parking', trip_rate={}, geometry='POLYGON ((-111.9255963 33.4236844, -111.9245475 33.4236878, -111.9245531 33.4235126, -111.9245575 33.423361, -111.9245603 33.4232681, -111.924562 33.423208, -111.9245662 33.4230674, -111.9245705 33.4229214, -111.9245746 33.4227795, -111.9245753 33.422756, -111.9245806 33.4225776, -111.9255043 33.4225897, -111.9255979 33.422591, -111.9255978 33.4226826, -111.9255963 33.4236844))', zone_id=0),\n",
       " 121: POI(id=121, x_coord=-111.925024, y_coord=33.4249976, count=1, area=[11182.3, 120365.27526591999], poi_type='yes', trip_rate={}, geometry='POLYGON ((-111.9242815 33.4246323, -111.9257665 33.4246323, -111.9257665 33.4253629, -111.9246155 33.4253629, -111.9242815 33.4253629, -111.9242815 33.4246323))', zone_id=0),\n",
       " 132: POI(id=132, x_coord=-111.9236149007327, y_coord=33.4284177810152, count=1, area=[10843.3, 116716.30964031999], poi_type='parking', trip_rate={}, geometry='POLYGON ((-111.9230254 33.4282311, -111.9226576 33.4280194, -111.9224013 33.4283011, -111.922828 33.4286108, -111.9235919 33.4288114, -111.9238837 33"
      ]
     },
     "execution_count": 5,
     "metadata": {},
     "output_type": "execute_result"
    },
    {
     "data": {
      "text/html": [
       "<b>limit_output extension: Maximum message size of 10000 exceeded with 234795 characters</b>"
      ]
     },
     "metadata": {},
     "output_type": "display_data"
    }
   ],
   "source": [
    "poi_dict"
   ]
  },
  {
   "cell_type": "markdown",
   "id": "5053005b",
   "metadata": {},
   "source": [
    "## Generate zone dictionary from node dictionary by specifying number of x blocks and y blocks"
   ]
  },
  {
   "cell_type": "code",
   "execution_count": 4,
   "id": "a91bd92c",
   "metadata": {
    "ExecuteTime": {
     "end_time": "2023-09-30T22:14:45.793648Z",
     "start_time": "2023-09-30T22:14:45.689947Z"
    }
   },
   "outputs": [
    {
     "name": "stdout",
     "output_type": "stream",
     "text": [
      "  : Generating zone dictionary...\n",
      "INFO Begin to run function: net2zone …\n",
      "  : Successfully generated zone dictionary: 100 Zones generated, plus 40 boundary gates(points))\n",
      "INFO Finished running function: net2zone, total: 0s\n",
      "\n"
     ]
    }
   ],
   "source": [
    "# Step 2: Generate zone dictionary from node dictionary by specifying number of x blocks and y blocks\n",
    "zone_dict = gd.net2zone(node_dict, num_x_blocks=10, num_y_blocks=10)\n",
    "\n",
    "# Generate zone based on grid size with 10 km width and 10km height for each zone\n",
    "# zone_dict = gd.net2zone(node_dict, cell_width=10, cell_height=10)"
   ]
  },
  {
   "cell_type": "code",
   "execution_count": 7,
   "id": "65e030f7",
   "metadata": {
    "ExecuteTime": {
     "end_time": "2023-09-30T22:14:52.580157Z",
     "start_time": "2023-09-30T22:14:52.560291Z"
    },
    "scrolled": true
   },
   "outputs": [
    {
     "data": {
      "text/plain": [
       "{'A0': Zone(id=0, name='A0', centroid_x=-112.03609, centroid_y=33.52141305, centroid=<POINT (-112.036 33.521)>, x_max=-112.024455, x_min=-112.047725, y_max=33.532364, y_min=33.5104621, node_id_list=[], poi_id_list=[], production=0, attraction=0, production_fixed=0, attraction_fixed=0, geometry=<POLYGON ((-112.048 33.51, -112.024 33.51, -112.024 33.532, -112.048 33.532,...>),\n",
       " 'A1': Zone(id=1, name='A1', centroid_x=-112.01281999999999, centroid_y=33.52141305, centroid=<POINT (-112.013 33.521)>, x_max=-112.001185, x_min=-112.024455, y_max=33.532364, y_min=33.5104621, node_id_list=[], poi_id_list=[], production=0, attraction=0, production_fixed=0, attraction_fixed=0, geometry=<POLYGON ((-112.024 33.51, -112.001 33.51, -112.001 33.532, -112.024 33.532,...>),\n",
       " 'A2': Zone(id=2, name='A2', centroid_x=-111.98955000000001, centroid_y=33.52141305, centroid=<POINT (-111.99 33.521)>, x_max=-111.977915, x_min=-112.001185, y_max=33.532364, y_min=33.5104621, node_id_list=[], poi_id_list=[], production=0, attraction=0, production_fixed=0, attraction_fixed=0, geometry=<POLYGON ((-112.001 33.51, -111.978 33.51, -111.978 33.532, -112.001 33.532,...>),\n",
       " 'A3': Zone(id=3, name='A3', centroid_x=-111.96628, centroid_y=33.52141305, centroid=<POINT (-111.966 33.521)>, x_max=-111.954645, x_min=-111.977915, y_max=33.532364, y_min=33.5104621, node_id_list=[], poi_id_list=[], production=0, attraction=0, production_fixed=0, attraction_fixed=0, geometry=<POLYGON ((-111.978 33.51, -111.955 33.51, -111.955 33.532, -111.978 33.532,...>),\n",
       " 'A4': Zone(id=4, name='A4', centroid_x=-111.94301, centroid_y=33.52141305, centroid=<POINT (-111.943 33.521)>, x_max=-111.931375, x_min=-111.954645, y_max=33.532364, y_min=33.5104621, node_id_list=[], poi_id_list=[], production=0, attraction=0, production_fixed=0, attraction_fixed=0, geometry=<POLYGON ((-111.955 33.51, -111.931 33.51, -111.931 33.532, -111.955 33.532,...>),\n",
       " 'A5': Zone(id=5, name='A5', centroid_x=-111.91973999999999, centroid_y=33.52141305, centroid=<POINT (-111.92 33.521)>, x_max=-111.908105, x_min=-111.931375, y_max=33.532364, y_min=33.5104621, node_id_list=[], poi_id_list=[], production=0, attraction=0, production_fixed=0, attraction_fixed=0, geometry=<POLYGON ((-111.931 33.51, -111.908 33.51, -111.908 33.532, -111.931 33.532,...>),\n",
       " 'A6': Zone(id=6, name='A6', centroid_x=-111.89647, centroid_y=33.52141305, centroid=<POINT (-111.896 33.521)>, x_max=-111.88483500000001, x_min=-111.908105, y_max=33.532364, y_min=33.5104621, node_id_list=[], poi_id_list=[], production=0, attraction=0, production_fixed=0, attraction_fixed=0, geometry=<POLYGON ((-111.908 33.51, -111.885 33.51, -111.885 33.532, -111.908 33.532,...>),\n",
       " 'A7': Zone(id=7, name='A7', centroid_x=-111.8732, centroid_y=33.52141305, centroid=<POINT (-111.873 33.521)>, x_max=-111.861565, x_min=-111.88483500000001, y_max=33.532364, y_min=33.5104621, node_id_list=[], poi_id_list=[], production=0, attraction=0, production_fixed=0, attraction_fixed=0, geometry=<POLYGON ((-111.885 33.51, -111.862 33.51, -111.862 33.532, -111.885 33.532,...>),\n",
       " 'A8': Zone(id=8, name='A8', centroid_x=-111.84993, centroid_y=33.52141305, centroid=<POINT (-111.85 33.521)>, x_max=-111.838295, x_min=-111.861565, y_max=33.532364, y_min=33.5104621, node_id_list=[], poi_id_list=[], production=0, attraction=0, production_fixed=0, attraction_fixed=0, geometry=<POLYGON ((-111.862 33.51, -111.838 33.51, -111.838 33.532, -111.862 33.532,...>),\n",
       " 'A9': Zone(id=9, name='A9', centroid_x=-111.82666, centroid_y=33.52141305, centroid=<POINT (-111.827 33.521)>, x_max=-111.815025, x_min=-111.838295, y_max=33.532364, y_min=33.5104621, node_id_list=[], poi_id_list=[], production=0, attraction=0, production_fixed=0, attraction_fixed=0, geometry=<POLYGON ((-111.838 33.51, -111.815 33.51, -111.815 33.532, -111.838 33.532,...>),\n",
       " 'B0': Zone(id=10, name='B0', centroid_x=-112.03608999999999, centroid_y=33.499511150000004, centroid=<POINT (-112.036 33.5)>, x_max=-112.024455, x_min=-112.047725, y_max=33.5104621, y_min=33.4885602, node_id_list=[], poi_id_list=[], production=0, attraction=0, production_fixed=0, attraction_fixed=0, geometry=<POLYGON ((-112.048 33.489, -112.024 33.489, -112.024 33.51, -112.048 33.51,...>),\n",
       " 'B1': Zone(id=11, name='B1', centroid_x=-112.01282, centroid_y=33.499511150000004, centroid=<POINT (-112.013 33.5)>, x_max=-112.001185, x_min=-112.024455, y_max=33.5104621, y_min=33.4885602, node_id_list=[], poi_id_list=[], production=0, attraction=0, production_fixed=0, attraction_fixed=0, geometry=<POLYGON ((-112.024 33.489, -112.001 33.489, -112.001 33.51, -112.024 33.51,...>),\n",
       " 'B2': Zone(id=12, name='B2', centroid_x=-111.98955000000001, centroid_y=33.499511150000004, centroid=<POINT (-111.99 33.5)>, x_max=-111.977915, x_min=-112.001185, y_max=33.5104621, y_min=33.4885602, node_id_list=[], poi_id_list=[], production=0, attraction=0, production_fixed=0, attraction_fixed=0, geometry=<POLYGON ((-112.001 33.489, -111.978 33.489, -111.978 33.51, -112.001 33.51,...>),\n",
       " 'B3': Zone(id=13, name='B3', centroid_x=-111.96628000000001, centroid_y=33.499511150000004, centroid=<POINT (-111.966 33.5)>, x_max=-111.954645, x_min=-111.977915, y_max=33.5104621, y_min=33.4885602, node_id_list=[], poi_id_list=[], production=0, attraction=0, production_fixed=0, attraction_fixed=0, geometry=<POLYGON ((-111.978 33.489, -111.955 33.489, -111.955 33.51, -111.978 33.51,...>),\n",
       " 'B4': Zone(id=14, name='B4', centroid_x=-111.94301, centroid_y=33.499511150000004, centroid=<POINT (-111.943 33.5)>, x_max=-111.931375, x_min=-111.954645, y_max=33.5104621, y_min=33.4885602, node_id_list=[], poi_id_list=[], production=0, attraction=0, production_fixed=0, attraction_fixed=0, geometry=<POLYGON ((-111.955 33.489, -111.931 33.489, -111.931 33.51, -111.955 33.51,...>),\n",
       " 'B5': Zone(id=15, name='B5', centroid_x=-111.91974, centroid_y=33.499511150000004, centroid=<POINT (-111.92 33.5)>, x_max=-111.908105, x_min=-111.931375, y_max=33.5104621, y_min=33.4885602, node_id_list=[], poi_id_list=[], production=0, attraction=0, production_fixed=0, attraction_fixed=0, geometry=<POLYGON ((-111.931 33.489, -111.908 33.489, -111.908 33.51, -111.931 33.51,...>),\n",
       " 'B6': Zone(id=16, name='B6', centroid_x=-111.89647, centroid_y=33.499511150000004, centroid=<POINT (-111.896 33.5)>, x_max=-111.88483500000001, x_min=-111.908105, y_max=33.5104621, y_min=33.4885602, node_id_list=[], poi_id_list=[], production=0, attraction=0, production_fixed=0, attraction_fixed=0, geometry=<POLYGON ((-111.908 33.489, -111.885 33.489, -111.885 33.51, -111.908 33.51,...>),\n",
       " 'B7': Zone(id=17, name='B7', centroid_x=-111.8732, centroid_y=33.499511150000004, centroid=<POINT (-111.873 33.5)>, x_max=-111.861565, x_min=-111.88483500000001, y_max=33.5104621, y_min=33.4885602, node_id_list=[], poi_id_list=[], production=0, attraction=0, production_fixed=0, attraction_fixed=0, geometry=<POLYGON ((-111.885 33.489, -111.862 33.489, -111.862 33.51, -111.885 33.51,...>),\n",
       " 'B8': Zone(id=18, name='B8', centroid_x=-111.84993, centroid_y=33.499511150000004, centroid=<POINT (-111.85 33.5)>, x_max=-111.838295, x_min=-111.861565, y_max=33.5104621, y_min=33.4885602, node_id_list=[], poi_id_list=[], production=0, attraction=0, production_fixed=0, attraction_fixed=0, geometry=<POLYGON ((-111.862 33.489, -111.838 33.489, -111.838 33.51, -111.862 33.51,...>),\n",
       " 'B9': Zone(id=19, name='B9', centroid_x=-111.82666000000002, centroid_y=33.499511150000004, centroid=<POINT (-111.827 33.5)>, x_max=-111.815025, x_min=-111.838295, y_max=33.5104621, y_min=33.4885602, node_id_list=[], poi_id_list=[], production=0, attraction=0, production_fixed=0, attraction_fixed=0, geometry=<POLYGON ((-111.838 33.489, -111.815 33.489, -111.815 33.51, -111.838 33.51,...>),\n",
       " 'C0': Zone(id=20, name='C0', centroid_x=-112.03609, centroid_y=33.47760925, centroid=<POINT (-112.036 33.478)>, x_max=-112.024455, x_min=-112.047725, y_max=33.4885602, y_min=33.4666583, node_id_list=[], poi_id_list=[], production=0, attraction=0, production_fixed=0, attraction_fixed=0, geometry=<POLYGON ((-112.048 33.467, -112.024 33.467, -112.024 33.489, -112.048 33.48...>),\n",
       " 'C1': Zone(id=21, name='C1', centroid_x=-112.01281999999999, centroid_y=33.47760925, centroid=<POINT (-112.013 33.478)>, x_max=-112.001185, x_min=-112.024455, y_max=33.4885602, y_min=33.4666583, node_id_list=[], poi_id_list=[], production=0, attraction=0, production_fixed=0, attraction_fixed=0, geometry=<POLYGON ((-112.024 33.467, -112.001 33.467, -112.001 33.489, -112.024 33.48...>),\n",
       " 'C2': Zone(id=22, name='C2', centroid_x=-111.98955000000001, centroid_y=33.47760925, centroid=<POINT (-111.99 33.478)>, x_max=-111.977915, x_min=-112.001185, y_max=33.4885602, y_min=33.4666583, node_id_list=[], poi_id_list=[], production=0, attraction=0, production_fixed=0, attraction_fixed=0, geometry=<POLYGON ((-112.001 33.467, -111.978 33.467, -111.978 33.489, -112.001 33.48...>),\n",
       " 'C3': Zone(id=23, name='C3', centroid_x=-111.96628, centroid_y=33.47760925, centroid=<POINT (-111.966 33.478)>, x_max=-111.954645, x_min=-111.977915, y_max=33.4885602, y_min=33.4666583, node_id_list=[], poi_id_list=[], production=0, attraction=0, production_fixed=0, attraction_fixed=0, geometry=<POLYGON ((-111.978 33.467, -111.955 33.467, -111.955 33.489, -111.978 33.48...>),\n",
       " 'C4': Zone(id=24, name='C4', centroid_x=-111.94301, centroid_y=33.47760925, centroid=<POINT (-111.943 33.478)>, x_max=-111.931375, x_min=-111.954645, y_max=33.4885602, y_min=33.4666583, node_id_list=[], poi_id_list=[], production=0, attraction=0, production_fixed=0, attraction_fixed=0, geometry=<POLYGON ((-111.955 33.467, -111.931 33.467, -111.931 33.489, -111.955 33.48...>),\n",
       " 'C5': Zone(id=25, name='C5', centroid_x=-111.91973999999999, centroid_y=33.47760925, centroid=<POINT (-111.92 33.478)>, x_max=-111.908105, x_min=-111.931375, y_max=33.4885602, y_min=33.4666583, node_id_list=[], poi_id_list=[], production=0, attraction=0, production_fixed=0, attraction_fixed=0, geometry=<POLYGON ((-111.931 33.467, -111.908 33.467, -111.908 33.489,"
      ]
     },
     "execution_count": 7,
     "metadata": {},
     "output_type": "execute_result"
    },
    {
     "data": {
      "text/html": [
       "<b>limit_output extension: Maximum message size of 10000 exceeded with 50599 characters</b>"
      ]
     },
     "metadata": {},
     "output_type": "display_data"
    }
   ],
   "source": [
    "zone_dict"
   ]
  },
  {
   "cell_type": "markdown",
   "id": "326b3363",
   "metadata": {},
   "source": [
    "## Synchronize zone geometory with node geometry and poi geometry.\n",
    "1.     add zone_id to node and poi dictionaries\n",
    "2.     also add node_list and poi_list to zone dictionary"
   ]
  },
  {
   "cell_type": "code",
   "execution_count": 5,
   "id": "e574f9f3",
   "metadata": {
    "ExecuteTime": {
     "end_time": "2023-09-30T22:16:59.561218Z",
     "start_time": "2023-09-30T22:16:58.575573Z"
    }
   },
   "outputs": [
    {
     "name": "stdout",
     "output_type": "stream",
     "text": [
      "  : Synchronizing geometry between zone and node/poi...\n",
      "INFO Begin to run function: sync_zone_and_node_geometry …\n",
      "  : Successfully synchronized zone and node geometry\n",
      "INFO Finished running function: sync_zone_and_node_geometry, total: 0s\n",
      "\n",
      "INFO Begin to run function: sync_zone_and_poi_geometry …\n",
      "  : Successfully synchronized zone and poi geometry\n",
      "INFO Finished running function: sync_zone_and_poi_geometry, total: 0s\n",
      "\n"
     ]
    }
   ],
   "source": [
    "update_dict = gd.sync_geometry_between_zone_and_node_poi(zone_dict, node_dict, poi_dict)\n",
    "zone_dict_update = update_dict.get('zone_dict')\n",
    "node_dict_update = update_dict.get('node_dict')\n",
    "poi_dict_update = update_dict.get('poi_dict')"
   ]
  },
  {
   "cell_type": "markdown",
   "id": "d559ac86",
   "metadata": {},
   "source": [
    " ## Calculate zone-to-zone od distance matrix"
   ]
  },
  {
   "cell_type": "code",
   "execution_count": 6,
   "id": "023a813f",
   "metadata": {
    "ExecuteTime": {
     "end_time": "2023-09-30T22:19:25.247039Z",
     "start_time": "2023-09-30T22:19:19.472312Z"
    }
   },
   "outputs": [
    {
     "name": "stdout",
     "output_type": "stream",
     "text": [
      "INFO Begin to run function: calc_zone_od_matrix …\n",
      "  : Successfully calculated zone-to-zone distance matrix\n",
      "INFO Finished running function: calc_zone_od_matrix, total: 5s\n",
      "\n"
     ]
    }
   ],
   "source": [
    "zone_od_distance_matrix = gd.calc_zone_od_distance_matrix(zone_dict_update)"
   ]
  },
  {
   "cell_type": "markdown",
   "id": "33173ba1",
   "metadata": {},
   "source": [
    "## Generate poi trip rate for each poi"
   ]
  },
  {
   "cell_type": "code",
   "execution_count": 7,
   "id": "2aaac1e4",
   "metadata": {
    "ExecuteTime": {
     "end_time": "2023-09-30T22:19:45.118033Z",
     "start_time": "2023-09-30T22:19:45.105337Z"
    }
   },
   "outputs": [
    {
     "name": "stdout",
     "output_type": "stream",
     "text": [
      "No trip rate file is provided, use default trip rate.\n",
      "  : Successfully generated poi trip rate with default setting.\n"
     ]
    }
   ],
   "source": [
    "poi_trip_rate = gd.gen_poi_trip_rate(poi_dict_update)"
   ]
  },
  {
   "cell_type": "markdown",
   "id": "cf9f0cd0",
   "metadata": {},
   "source": [
    "## Generate node production attraction for each node based on poi_trip_rate "
   ]
  },
  {
   "cell_type": "code",
   "execution_count": 8,
   "id": "feedfcc2",
   "metadata": {
    "ExecuteTime": {
     "end_time": "2023-09-30T22:20:03.639362Z",
     "start_time": "2023-09-30T22:20:03.624859Z"
    }
   },
   "outputs": [
    {
     "name": "stdout",
     "output_type": "stream",
     "text": [
      "  : Successfully generated production and attraction for each node based on poi trip rate.\n"
     ]
    }
   ],
   "source": [
    "node_prod_attr = gd.gen_node_prod_attr(node_dict_update, poi_trip_rate)  "
   ]
  },
  {
   "cell_type": "markdown",
   "id": "c4cc025c",
   "metadata": {},
   "source": [
    "## Calculate zone production and attraction based on node production and attraction "
   ]
  },
  {
   "cell_type": "code",
   "execution_count": 9,
   "id": "8395420d",
   "metadata": {
    "ExecuteTime": {
     "end_time": "2023-09-30T22:20:20.420977Z",
     "start_time": "2023-09-30T22:20:20.408861Z"
    }
   },
   "outputs": [
    {
     "name": "stdout",
     "output_type": "stream",
     "text": [
      "  : Successfully calculated zone production and attraction based on node production and attraction.\n"
     ]
    }
   ],
   "source": [
    "zone_prod_attr = gd.calc_zone_production_attraction(node_prod_attr, zone_dict_update)"
   ]
  },
  {
   "cell_type": "markdown",
   "id": "380276ee",
   "metadata": {},
   "source": [
    "## Run gravity model to generate agent-based demand "
   ]
  },
  {
   "cell_type": "code",
   "execution_count": 10,
   "id": "26ad2ccb",
   "metadata": {
    "ExecuteTime": {
     "end_time": "2023-09-30T22:20:37.120050Z",
     "start_time": "2023-09-30T22:20:36.972689Z"
    }
   },
   "outputs": [
    {
     "name": "stdout",
     "output_type": "stream",
     "text": [
      "  : Successfully calculated zone od friction attraction.\n",
      "  : Successfully run gravity model to generate demand.csv.\n"
     ]
    }
   ],
   "source": [
    "df_demand = gd.run_gravity_model(zone_prod_attr, zone_od_distance_matrix)  "
   ]
  },
  {
   "cell_type": "code",
   "execution_count": 16,
   "id": "252dd510",
   "metadata": {
    "ExecuteTime": {
     "end_time": "2023-09-30T22:22:12.448472Z",
     "start_time": "2023-09-30T22:22:12.433014Z"
    }
   },
   "outputs": [
    {
     "data": {
      "text/html": [
       "<div>\n",
       "<style scoped>\n",
       "    .dataframe tbody tr th:only-of-type {\n",
       "        vertical-align: middle;\n",
       "    }\n",
       "\n",
       "    .dataframe tbody tr th {\n",
       "        vertical-align: top;\n",
       "    }\n",
       "\n",
       "    .dataframe thead th {\n",
       "        text-align: right;\n",
       "    }\n",
       "</style>\n",
       "<table border=\"1\" class=\"dataframe\">\n",
       "  <thead>\n",
       "    <tr style=\"text-align: right;\">\n",
       "      <th></th>\n",
       "      <th>o_zone_id</th>\n",
       "      <th>o_zone_name</th>\n",
       "      <th>d_zone_id</th>\n",
       "      <th>d_zone_name</th>\n",
       "      <th>dist_km</th>\n",
       "      <th>volume</th>\n",
       "      <th>geometry</th>\n",
       "    </tr>\n",
       "  </thead>\n",
       "  <tbody>\n",
       "    <tr>\n",
       "      <th>0</th>\n",
       "      <td>0</td>\n",
       "      <td>A0</td>\n",
       "      <td>0</td>\n",
       "      <td>A0</td>\n",
       "      <td>0.000000</td>\n",
       "      <td>0.0</td>\n",
       "      <td>LINESTRING (-112.03609 33.52141305, -112.03609...</td>\n",
       "    </tr>\n",
       "    <tr>\n",
       "      <th>1</th>\n",
       "      <td>0</td>\n",
       "      <td>A0</td>\n",
       "      <td>1</td>\n",
       "      <td>A1</td>\n",
       "      <td>2.157151</td>\n",
       "      <td>0.0</td>\n",
       "      <td>LINESTRING (-112.03609 33.52141305, -112.01281...</td>\n",
       "    </tr>\n",
       "    <tr>\n",
       "      <th>2</th>\n",
       "      <td>0</td>\n",
       "      <td>A0</td>\n",
       "      <td>2</td>\n",
       "      <td>A2</td>\n",
       "      <td>4.314301</td>\n",
       "      <td>0.0</td>\n",
       "      <td>LINESTRING (-112.03609 33.52141305, -111.98955...</td>\n",
       "    </tr>\n",
       "    <tr>\n",
       "      <th>3</th>\n",
       "      <td>0</td>\n",
       "      <td>A0</td>\n",
       "      <td>3</td>\n",
       "      <td>A3</td>\n",
       "      <td>6.471452</td>\n",
       "      <td>0.0</td>\n",
       "      <td>LINESTRING (-112.03609 33.52141305, -111.96628...</td>\n",
       "    </tr>\n",
       "    <tr>\n",
       "      <th>4</th>\n",
       "      <td>0</td>\n",
       "      <td>A0</td>\n",
       "      <td>4</td>\n",
       "      <td>A4</td>\n",
       "      <td>8.628602</td>\n",
       "      <td>0.0</td>\n",
       "      <td>LINESTRING (-112.03609 33.52141305, -111.94301...</td>\n",
       "    </tr>\n",
       "  </tbody>\n",
       "</table>\n",
       "</div>"
      ],
      "text/plain": [
       "   o_zone_id o_zone_name  d_zone_id d_zone_name   dist_km  volume  \\\n",
       "0          0          A0          0          A0  0.000000     0.0   \n",
       "1          0          A0          1          A1  2.157151     0.0   \n",
       "2          0          A0          2          A2  4.314301     0.0   \n",
       "3          0          A0          3          A3  6.471452     0.0   \n",
       "4          0          A0          4          A4  8.628602     0.0   \n",
       "\n",
       "                                            geometry  \n",
       "0  LINESTRING (-112.03609 33.52141305, -112.03609...  \n",
       "1  LINESTRING (-112.03609 33.52141305, -112.01281...  \n",
       "2  LINESTRING (-112.03609 33.52141305, -111.98955...  \n",
       "3  LINESTRING (-112.03609 33.52141305, -111.96628...  \n",
       "4  LINESTRING (-112.03609 33.52141305, -111.94301...  "
      ]
     },
     "execution_count": 16,
     "metadata": {},
     "output_type": "execute_result"
    }
   ],
   "source": [
    "df_demand.head()"
   ]
  },
  {
   "cell_type": "markdown",
   "id": "59ddbaf9",
   "metadata": {},
   "source": [
    "## Generate agent-based demand "
   ]
  },
  {
   "cell_type": "code",
   "execution_count": 11,
   "id": "8dd032ae",
   "metadata": {
    "ExecuteTime": {
     "end_time": "2023-09-30T22:21:13.721367Z",
     "start_time": "2023-09-30T22:21:12.794385Z"
    }
   },
   "outputs": [
    {
     "name": "stdout",
     "output_type": "stream",
     "text": [
      "  : Successfully generated agent-based demand data.\n"
     ]
    }
   ],
   "source": [
    "df_agent = gd.gen_agent_based_demand(node_prod_attr, zone_prod_attr, df_demand=df_demand)"
   ]
  },
  {
   "cell_type": "code",
   "execution_count": 17,
   "id": "15bf5925",
   "metadata": {
    "ExecuteTime": {
     "end_time": "2023-09-30T22:22:33.507277Z",
     "start_time": "2023-09-30T22:22:33.480727Z"
    }
   },
   "outputs": [
    {
     "data": {
      "text/html": [
       "<div>\n",
       "<style scoped>\n",
       "    .dataframe tbody tr th:only-of-type {\n",
       "        vertical-align: middle;\n",
       "    }\n",
       "\n",
       "    .dataframe tbody tr th {\n",
       "        vertical-align: top;\n",
       "    }\n",
       "\n",
       "    .dataframe thead th {\n",
       "        text-align: right;\n",
       "    }\n",
       "</style>\n",
       "<table border=\"1\" class=\"dataframe\">\n",
       "  <thead>\n",
       "    <tr style=\"text-align: right;\">\n",
       "      <th></th>\n",
       "      <th>id</th>\n",
       "      <th>agent_type</th>\n",
       "      <th>o_zone_id</th>\n",
       "      <th>d_zone_id</th>\n",
       "      <th>o_zone_name</th>\n",
       "      <th>d_zone_name</th>\n",
       "      <th>o_node_id</th>\n",
       "      <th>d_node_id</th>\n",
       "      <th>path_node_seq</th>\n",
       "      <th>path_link_seq</th>\n",
       "      <th>b_generated</th>\n",
       "      <th>b_complete_trip</th>\n",
       "      <th>geometry</th>\n",
       "      <th>departure_time</th>\n",
       "    </tr>\n",
       "  </thead>\n",
       "  <tbody>\n",
       "    <tr>\n",
       "      <th>0</th>\n",
       "      <td>6205</td>\n",
       "      <td>v</td>\n",
       "      <td>44</td>\n",
       "      <td>44</td>\n",
       "      <td>E4</td>\n",
       "      <td>E4</td>\n",
       "      <td>407</td>\n",
       "      <td>580</td>\n",
       "      <td>[]</td>\n",
       "      <td>[]</td>\n",
       "      <td>False</td>\n",
       "      <td>False</td>\n",
       "      <td>LINESTRING(-111.945 33.4264311, -111.942641580...</td>\n",
       "      <td>0730</td>\n",
       "    </tr>\n",
       "    <tr>\n",
       "      <th>1</th>\n",
       "      <td>6206</td>\n",
       "      <td>v</td>\n",
       "      <td>44</td>\n",
       "      <td>45</td>\n",
       "      <td>E4</td>\n",
       "      <td>E5</td>\n",
       "      <td>885</td>\n",
       "      <td>284</td>\n",
       "      <td>[]</td>\n",
       "      <td>[]</td>\n",
       "      <td>False</td>\n",
       "      <td>False</td>\n",
       "      <td>LINESTRING(-111.94397966236544 33.426675031660...</td>\n",
       "      <td>0712</td>\n",
       "    </tr>\n",
       "    <tr>\n",
       "      <th>2</th>\n",
       "      <td>6215</td>\n",
       "      <td>v</td>\n",
       "      <td>44</td>\n",
       "      <td>54</td>\n",
       "      <td>E4</td>\n",
       "      <td>F4</td>\n",
       "      <td>710</td>\n",
       "      <td>434</td>\n",
       "      <td>[]</td>\n",
       "      <td>[]</td>\n",
       "      <td>False</td>\n",
       "      <td>False</td>\n",
       "      <td>LINESTRING(-111.94142216666668 33.4236071, -11...</td>\n",
       "      <td>0754</td>\n",
       "    </tr>\n",
       "    <tr>\n",
       "      <th>3</th>\n",
       "      <td>6216</td>\n",
       "      <td>v</td>\n",
       "      <td>44</td>\n",
       "      <td>55</td>\n",
       "      <td>E4</td>\n",
       "      <td>F5</td>\n",
       "      <td>407</td>\n",
       "      <td>869</td>\n",
       "      <td>[]</td>\n",
       "      <td>[]</td>\n",
       "      <td>False</td>\n",
       "      <td>False</td>\n",
       "      <td>LINESTRING(-111.945 33.4264311, -111.925821025...</td>\n",
       "      <td>0751</td>\n",
       "    </tr>\n",
       "    <tr>\n",
       "      <th>4</th>\n",
       "      <td>6345</td>\n",
       "      <td>v</td>\n",
       "      <td>45</td>\n",
       "      <td>44</td>\n",
       "      <td>E5</td>\n",
       "      <td>E4</td>\n",
       "      <td>745</td>\n",
       "      <td>887</td>\n",
       "      <td>[]</td>\n",
       "      <td>[]</td>\n",
       "      <td>False</td>\n",
       "      <td>False</td>\n",
       "      <td>LINESTRING(-111.92972717475524 33.424336047792...</td>\n",
       "      <td>0730</td>\n",
       "    </tr>\n",
       "  </tbody>\n",
       "</table>\n",
       "</div>"
      ],
      "text/plain": [
       "     id agent_type  o_zone_id  d_zone_id o_zone_name d_zone_name  o_node_id  \\\n",
       "0  6205          v         44         44          E4          E4        407   \n",
       "1  6206          v         44         45          E4          E5        885   \n",
       "2  6215          v         44         54          E4          F4        710   \n",
       "3  6216          v         44         55          E4          F5        407   \n",
       "4  6345          v         45         44          E5          E4        745   \n",
       "\n",
       "   d_node_id path_node_seq path_link_seq  b_generated  b_complete_trip  \\\n",
       "0        580            []            []        False            False   \n",
       "1        284            []            []        False            False   \n",
       "2        434            []            []        False            False   \n",
       "3        869            []            []        False            False   \n",
       "4        887            []            []        False            False   \n",
       "\n",
       "                                            geometry departure_time  \n",
       "0  LINESTRING(-111.945 33.4264311, -111.942641580...           0730  \n",
       "1  LINESTRING(-111.94397966236544 33.426675031660...           0712  \n",
       "2  LINESTRING(-111.94142216666668 33.4236071, -11...           0754  \n",
       "3  LINESTRING(-111.945 33.4264311, -111.925821025...           0751  \n",
       "4  LINESTRING(-111.92972717475524 33.424336047792...           0730  "
      ]
     },
     "execution_count": 17,
     "metadata": {},
     "output_type": "execute_result"
    }
   ],
   "source": [
    "df_agent.head()"
   ]
  },
  {
   "cell_type": "code",
   "execution_count": 12,
   "id": "9422270a",
   "metadata": {
    "ExecuteTime": {
     "end_time": "2023-09-30T22:21:21.901809Z",
     "start_time": "2023-09-30T22:21:21.888968Z"
    }
   },
   "outputs": [
    {
     "name": "stdout",
     "output_type": "stream",
     "text": [
      "{'required_files': ['node.csv', 'poi.csv'], 'trip_purpose_dict': {1: {'name': 'home-based-work', 'alpha': 28507, 'beta': -0.02, 'gamma': -0.123}, 2: {'name': 'home-based-other', 'alpha': 139173, 'beta': -1.285, 'gamma': -0.094}, 3: {'name': 'non-home-based', 'alpha': 219113, 'beta': -1.332, 'gamma': -0.1}}, 'poi_purpose_prod_dict': {'library': {1: 8.16}, 'university': {1: 1.17}, 'office': {1: 2.04}, 'arts_centre': {1: 0.18}, 'university;yes': {1: 1.17}, 'bank': {1: 12.13}, 'childcare': {1: 11.12}, 'school': {1: 2.04}, 'public': {1: 4.79}, 'post_office': {1: 11.21}, 'pharmacy': {1: 10.29}, 'yes': {1: 1.15}}, 'poi_purpose_attr_dict': {'parking': {1: 2.39}, 'apartments': {1: 0.48}, 'motorcycle_parking': {1: 2.39}, 'theatre': {1: 6.17}, 'restaurant': {1: 7.8}, 'cafe': {1: 36.31}, 'bar': {1: 7.8}, 'bicycle_parking': {1: 2.39}, 'residential': {1: 0.48}, 'commercial': {1: 3.81}, 'house': {1: 0.48}, 'stadium': {1: 0.47}, 'retail': {1: 6.84}, 'fast_food': {1: 14.13}, 'yes': {1: 1.15}}}\n"
     ]
    }
   ],
   "source": [
    "# You can also view and edit the package setting by using gd.pkg_settings\n",
    "print(gd.pkg_settings)"
   ]
  },
  {
   "cell_type": "markdown",
   "id": "6d543087",
   "metadata": {},
   "source": [
    "## Output demand, agent, zone, zone_od_dist_table, zone_od_dist_matrix files to output directory"
   ]
  },
  {
   "cell_type": "code",
   "execution_count": null,
   "id": "f337dbc4",
   "metadata": {},
   "outputs": [],
   "source": [
    "gd.save_demand\n",
    "gd.save_agent\n",
    "gd.save_zone\n",
    "gd.save_zone_od_dist_table\n",
    "gd.save_zone_od_dist_matrix"
   ]
  }
 ],
 "metadata": {
  "kernelspec": {
   "display_name": "base",
   "language": "python",
   "name": "python3"
  },
  "language_info": {
   "codemirror_mode": {
    "name": "ipython",
    "version": 3
   },
   "file_extension": ".py",
   "mimetype": "text/x-python",
   "name": "python",
   "nbconvert_exporter": "python",
   "pygments_lexer": "ipython3",
   "version": "3.10.11"
  },
  "nbTranslate": {
   "displayLangs": [
    "*"
   ],
   "hotkey": "alt-t",
   "langInMainMenu": true,
   "sourceLang": "en",
   "targetLang": "fr",
   "useGoogleTranslate": true
  },
  "toc": {
   "base_numbering": 1,
   "nav_menu": {},
   "number_sections": true,
   "sideBar": true,
   "skip_h1_title": false,
   "title_cell": "Table of Contents",
   "title_sidebar": "Contents",
   "toc_cell": false,
   "toc_position": {
    "height": "calc(100% - 180px)",
    "left": "10px",
    "top": "150px",
    "width": "457.254px"
   },
   "toc_section_display": true,
   "toc_window_display": true
  },
  "varInspector": {
   "cols": {
    "lenName": 16,
    "lenType": 16,
    "lenVar": 40
   },
   "kernels_config": {
    "python": {
     "delete_cmd_postfix": "",
     "delete_cmd_prefix": "del ",
     "library": "var_list.py",
     "varRefreshCmd": "print(var_dic_list())"
    },
    "r": {
     "delete_cmd_postfix": ") ",
     "delete_cmd_prefix": "rm(",
     "library": "var_list.r",
     "varRefreshCmd": "cat(var_dic_list()) "
    }
   },
   "types_to_exclude": [
    "module",
    "function",
    "builtin_function_or_method",
    "instance",
    "_Feature"
   ],
   "window_display": false
  }
 },
 "nbformat": 4,
 "nbformat_minor": 5
}
